{
    "nbformat_minor": 1, 
    "cells": [
        {
            "source": "<h1>My Jupyter Notebook on IBM Data Science Experience</h1>", 
            "cell_type": "markdown", 
            "metadata": {
                "collapsed": true
            }
        }, 
        {
            "source": "**Navya Renuka Ankam**  \nSoftware Developer", 
            "cell_type": "markdown", 
            "metadata": {}
        }, 
        {
            "source": "_I am interested in Data Science because data is the biggest asset these days which can be used and help humans to make better decisions with the help of optimised algorithms.It has been very interesting while learning new things in Data Science and I am in love with it._", 
            "cell_type": "markdown", 
            "metadata": {}
        }, 
        {
            "source": "<h3>Addition of two numbers 4 and 5</h3>", 
            "cell_type": "markdown", 
            "metadata": {}
        }, 
        {
            "execution_count": 3, 
            "cell_type": "code", 
            "metadata": {}, 
            "outputs": [
                {
                    "execution_count": 3, 
                    "metadata": {}, 
                    "data": {
                        "text/plain": "9"
                    }, 
                    "output_type": "execute_result"
                }
            ], 
            "source": "4+5"
        }, 
        {
            "source": "#### Numbered List\n1. number1\n2. number2\n\n#### Bulleted List\n- bullet1\n- bullet2\n\n#### Hyperlink\n<a href=\"https://www.google.com\">GOOGLE</a>\n    \n#### Table\n<table align=\"left\">\n    <th>Name</th>\n    <th>Age</th>\n    <tr>\n        <td>Navya</td>\n        <td>22</td>\n    </tr>\n    <tr>\n        <td>Renuka</td>\n        <td>22</td>\n    </tr>\n</table>           ", 
            "cell_type": "markdown", 
            "metadata": {}
        }
    ], 
    "metadata": {
        "kernelspec": {
            "display_name": "Python 3.6", 
            "name": "python3", 
            "language": "python"
        }, 
        "language_info": {
            "mimetype": "text/x-python", 
            "nbconvert_exporter": "python", 
            "version": "3.6.8", 
            "name": "python", 
            "file_extension": ".py", 
            "pygments_lexer": "ipython3", 
            "codemirror_mode": {
                "version": 3, 
                "name": "ipython"
            }
        }
    }, 
    "nbformat": 4
}